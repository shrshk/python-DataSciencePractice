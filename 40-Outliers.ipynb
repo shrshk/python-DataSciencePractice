{
 "cells": [
  {
   "cell_type": "code",
   "execution_count": 1,
   "metadata": {
    "collapsed": true
   },
   "outputs": [],
   "source": [
    "import numpy as np\n",
    "import pandas as pd\n",
    "from pandas import Series, DataFrame"
   ]
  },
  {
   "cell_type": "code",
   "execution_count": 6,
   "metadata": {
    "collapsed": true
   },
   "outputs": [],
   "source": [
    "np.random.seed(12345)"
   ]
  },
  {
   "cell_type": "code",
   "execution_count": 8,
   "metadata": {
    "collapsed": false
   },
   "outputs": [
    {
     "data": {
      "text/html": [
       "<div>\n",
       "<table border=\"1\" class=\"dataframe\">\n",
       "  <thead>\n",
       "    <tr style=\"text-align: right;\">\n",
       "      <th></th>\n",
       "      <th>0</th>\n",
       "      <th>1</th>\n",
       "      <th>2</th>\n",
       "      <th>3</th>\n",
       "    </tr>\n",
       "  </thead>\n",
       "  <tbody>\n",
       "    <tr>\n",
       "      <th>0</th>\n",
       "      <td>1.150765</td>\n",
       "      <td>-0.997174</td>\n",
       "      <td>0.046486</td>\n",
       "      <td>-0.610441</td>\n",
       "    </tr>\n",
       "    <tr>\n",
       "      <th>1</th>\n",
       "      <td>-0.394982</td>\n",
       "      <td>1.199915</td>\n",
       "      <td>-0.451814</td>\n",
       "      <td>-0.155385</td>\n",
       "    </tr>\n",
       "    <tr>\n",
       "      <th>2</th>\n",
       "      <td>-0.153514</td>\n",
       "      <td>0.011194</td>\n",
       "      <td>-0.050555</td>\n",
       "      <td>0.420211</td>\n",
       "    </tr>\n",
       "    <tr>\n",
       "      <th>3</th>\n",
       "      <td>1.190981</td>\n",
       "      <td>1.561488</td>\n",
       "      <td>-1.132925</td>\n",
       "      <td>0.097083</td>\n",
       "    </tr>\n",
       "    <tr>\n",
       "      <th>4</th>\n",
       "      <td>-1.031573</td>\n",
       "      <td>-0.044618</td>\n",
       "      <td>-0.218153</td>\n",
       "      <td>0.772942</td>\n",
       "    </tr>\n",
       "  </tbody>\n",
       "</table>\n",
       "</div>"
      ],
      "text/plain": [
       "          0         1         2         3\n",
       "0  1.150765 -0.997174  0.046486 -0.610441\n",
       "1 -0.394982  1.199915 -0.451814 -0.155385\n",
       "2 -0.153514  0.011194 -0.050555  0.420211\n",
       "3  1.190981  1.561488 -1.132925  0.097083\n",
       "4 -1.031573 -0.044618 -0.218153  0.772942"
      ]
     },
     "execution_count": 8,
     "metadata": {},
     "output_type": "execute_result"
    }
   ],
   "source": [
    "dframe = DataFrame(np.random.randn(1000,4))\n",
    "dframe.head()"
   ]
  },
  {
   "cell_type": "code",
   "execution_count": 9,
   "metadata": {
    "collapsed": false
   },
   "outputs": [
    {
     "data": {
      "text/html": [
       "<div>\n",
       "<table border=\"1\" class=\"dataframe\">\n",
       "  <thead>\n",
       "    <tr style=\"text-align: right;\">\n",
       "      <th></th>\n",
       "      <th>0</th>\n",
       "      <th>1</th>\n",
       "      <th>2</th>\n",
       "      <th>3</th>\n",
       "    </tr>\n",
       "  </thead>\n",
       "  <tbody>\n",
       "    <tr>\n",
       "      <th>995</th>\n",
       "      <td>-0.805171</td>\n",
       "      <td>0.976343</td>\n",
       "      <td>0.859475</td>\n",
       "      <td>0.203516</td>\n",
       "    </tr>\n",
       "    <tr>\n",
       "      <th>996</th>\n",
       "      <td>-0.064420</td>\n",
       "      <td>0.487940</td>\n",
       "      <td>1.353146</td>\n",
       "      <td>0.291152</td>\n",
       "    </tr>\n",
       "    <tr>\n",
       "      <th>997</th>\n",
       "      <td>-0.051474</td>\n",
       "      <td>1.353153</td>\n",
       "      <td>1.066038</td>\n",
       "      <td>1.260350</td>\n",
       "    </tr>\n",
       "    <tr>\n",
       "      <th>998</th>\n",
       "      <td>-0.144072</td>\n",
       "      <td>-1.074131</td>\n",
       "      <td>-0.245138</td>\n",
       "      <td>1.474357</td>\n",
       "    </tr>\n",
       "    <tr>\n",
       "      <th>999</th>\n",
       "      <td>-0.741705</td>\n",
       "      <td>-0.462397</td>\n",
       "      <td>-0.419776</td>\n",
       "      <td>0.592210</td>\n",
       "    </tr>\n",
       "  </tbody>\n",
       "</table>\n",
       "</div>"
      ],
      "text/plain": [
       "            0         1         2         3\n",
       "995 -0.805171  0.976343  0.859475  0.203516\n",
       "996 -0.064420  0.487940  1.353146  0.291152\n",
       "997 -0.051474  1.353153  1.066038  1.260350\n",
       "998 -0.144072 -1.074131 -0.245138  1.474357\n",
       "999 -0.741705 -0.462397 -0.419776  0.592210"
      ]
     },
     "execution_count": 9,
     "metadata": {},
     "output_type": "execute_result"
    }
   ],
   "source": [
    "dframe.tail()"
   ]
  },
  {
   "cell_type": "code",
   "execution_count": 11,
   "metadata": {
    "collapsed": false
   },
   "outputs": [
    {
     "data": {
      "text/html": [
       "<div>\n",
       "<table border=\"1\" class=\"dataframe\">\n",
       "  <thead>\n",
       "    <tr style=\"text-align: right;\">\n",
       "      <th></th>\n",
       "      <th>0</th>\n",
       "      <th>1</th>\n",
       "      <th>2</th>\n",
       "      <th>3</th>\n",
       "    </tr>\n",
       "  </thead>\n",
       "  <tbody>\n",
       "    <tr>\n",
       "      <th>count</th>\n",
       "      <td>1000.000000</td>\n",
       "      <td>1000.000000</td>\n",
       "      <td>1000.000000</td>\n",
       "      <td>1000.000000</td>\n",
       "    </tr>\n",
       "    <tr>\n",
       "      <th>mean</th>\n",
       "      <td>-0.020880</td>\n",
       "      <td>0.001643</td>\n",
       "      <td>-0.019453</td>\n",
       "      <td>-0.026122</td>\n",
       "    </tr>\n",
       "    <tr>\n",
       "      <th>std</th>\n",
       "      <td>0.980023</td>\n",
       "      <td>1.025441</td>\n",
       "      <td>0.995088</td>\n",
       "      <td>0.960486</td>\n",
       "    </tr>\n",
       "    <tr>\n",
       "      <th>min</th>\n",
       "      <td>-3.108915</td>\n",
       "      <td>-3.645860</td>\n",
       "      <td>-3.481593</td>\n",
       "      <td>-3.194414</td>\n",
       "    </tr>\n",
       "    <tr>\n",
       "      <th>25%</th>\n",
       "      <td>-0.697479</td>\n",
       "      <td>-0.697678</td>\n",
       "      <td>-0.694020</td>\n",
       "      <td>-0.700987</td>\n",
       "    </tr>\n",
       "    <tr>\n",
       "      <th>50%</th>\n",
       "      <td>-0.005279</td>\n",
       "      <td>0.031774</td>\n",
       "      <td>-0.014728</td>\n",
       "      <td>-0.038483</td>\n",
       "    </tr>\n",
       "    <tr>\n",
       "      <th>75%</th>\n",
       "      <td>0.618116</td>\n",
       "      <td>0.690065</td>\n",
       "      <td>0.651287</td>\n",
       "      <td>0.649747</td>\n",
       "    </tr>\n",
       "    <tr>\n",
       "      <th>max</th>\n",
       "      <td>2.859053</td>\n",
       "      <td>3.189940</td>\n",
       "      <td>3.525865</td>\n",
       "      <td>3.023720</td>\n",
       "    </tr>\n",
       "  </tbody>\n",
       "</table>\n",
       "</div>"
      ],
      "text/plain": [
       "                 0            1            2            3\n",
       "count  1000.000000  1000.000000  1000.000000  1000.000000\n",
       "mean     -0.020880     0.001643    -0.019453    -0.026122\n",
       "std       0.980023     1.025441     0.995088     0.960486\n",
       "min      -3.108915    -3.645860    -3.481593    -3.194414\n",
       "25%      -0.697479    -0.697678    -0.694020    -0.700987\n",
       "50%      -0.005279     0.031774    -0.014728    -0.038483\n",
       "75%       0.618116     0.690065     0.651287     0.649747\n",
       "max       2.859053     3.189940     3.525865     3.023720"
      ]
     },
     "execution_count": 11,
     "metadata": {},
     "output_type": "execute_result"
    }
   ],
   "source": [
    "dframe.describe()"
   ]
  },
  {
   "cell_type": "code",
   "execution_count": 12,
   "metadata": {
    "collapsed": true
   },
   "outputs": [],
   "source": [
    "col = dframe[0]"
   ]
  },
  {
   "cell_type": "code",
   "execution_count": 14,
   "metadata": {
    "collapsed": false
   },
   "outputs": [
    {
     "data": {
      "text/plain": [
       "0    1.150765\n",
       "1   -0.394982\n",
       "2   -0.153514\n",
       "3    1.190981\n",
       "4   -1.031573\n",
       "Name: 0, dtype: float64"
      ]
     },
     "execution_count": 14,
     "metadata": {},
     "output_type": "execute_result"
    }
   ],
   "source": [
    "col.head()"
   ]
  },
  {
   "cell_type": "code",
   "execution_count": 16,
   "metadata": {
    "collapsed": false
   },
   "outputs": [
    {
     "data": {
      "text/plain": [
       "396   -3.108915\n",
       "Name: 0, dtype: float64"
      ]
     },
     "execution_count": 16,
     "metadata": {},
     "output_type": "execute_result"
    }
   ],
   "source": [
    "col[np.abs(col)>3]"
   ]
  },
  {
   "cell_type": "code",
   "execution_count": 19,
   "metadata": {
    "collapsed": false
   },
   "outputs": [
    {
     "data": {
      "text/html": [
       "<div>\n",
       "<table border=\"1\" class=\"dataframe\">\n",
       "  <thead>\n",
       "    <tr style=\"text-align: right;\">\n",
       "      <th></th>\n",
       "      <th>0</th>\n",
       "      <th>1</th>\n",
       "      <th>2</th>\n",
       "      <th>3</th>\n",
       "    </tr>\n",
       "  </thead>\n",
       "  <tbody>\n",
       "    <tr>\n",
       "      <th>46</th>\n",
       "      <td>-0.658090</td>\n",
       "      <td>-0.207434</td>\n",
       "      <td>3.525865</td>\n",
       "      <td>0.283070</td>\n",
       "    </tr>\n",
       "    <tr>\n",
       "      <th>67</th>\n",
       "      <td>0.599947</td>\n",
       "      <td>-3.645860</td>\n",
       "      <td>0.255475</td>\n",
       "      <td>-0.549574</td>\n",
       "    </tr>\n",
       "    <tr>\n",
       "      <th>289</th>\n",
       "      <td>-1.559625</td>\n",
       "      <td>0.336788</td>\n",
       "      <td>-3.333767</td>\n",
       "      <td>-1.240685</td>\n",
       "    </tr>\n",
       "    <tr>\n",
       "      <th>371</th>\n",
       "      <td>-1.116332</td>\n",
       "      <td>-3.018842</td>\n",
       "      <td>-0.298748</td>\n",
       "      <td>0.406954</td>\n",
       "    </tr>\n",
       "    <tr>\n",
       "      <th>396</th>\n",
       "      <td>-3.108915</td>\n",
       "      <td>1.117755</td>\n",
       "      <td>-0.152780</td>\n",
       "      <td>-0.340173</td>\n",
       "    </tr>\n",
       "    <tr>\n",
       "      <th>526</th>\n",
       "      <td>1.188742</td>\n",
       "      <td>-3.183867</td>\n",
       "      <td>1.050471</td>\n",
       "      <td>-1.042736</td>\n",
       "    </tr>\n",
       "    <tr>\n",
       "      <th>573</th>\n",
       "      <td>-2.214074</td>\n",
       "      <td>-3.140963</td>\n",
       "      <td>-1.509976</td>\n",
       "      <td>-0.389818</td>\n",
       "    </tr>\n",
       "    <tr>\n",
       "      <th>738</th>\n",
       "      <td>-0.088202</td>\n",
       "      <td>1.090038</td>\n",
       "      <td>-0.848098</td>\n",
       "      <td>-3.194414</td>\n",
       "    </tr>\n",
       "    <tr>\n",
       "      <th>768</th>\n",
       "      <td>0.474358</td>\n",
       "      <td>0.003349</td>\n",
       "      <td>-0.011807</td>\n",
       "      <td>3.023720</td>\n",
       "    </tr>\n",
       "    <tr>\n",
       "      <th>797</th>\n",
       "      <td>2.368010</td>\n",
       "      <td>0.452649</td>\n",
       "      <td>-3.481593</td>\n",
       "      <td>0.789944</td>\n",
       "    </tr>\n",
       "    <tr>\n",
       "      <th>966</th>\n",
       "      <td>0.164293</td>\n",
       "      <td>3.082067</td>\n",
       "      <td>-0.516982</td>\n",
       "      <td>0.251909</td>\n",
       "    </tr>\n",
       "    <tr>\n",
       "      <th>994</th>\n",
       "      <td>-0.843849</td>\n",
       "      <td>3.189940</td>\n",
       "      <td>0.070978</td>\n",
       "      <td>0.516982</td>\n",
       "    </tr>\n",
       "  </tbody>\n",
       "</table>\n",
       "</div>"
      ],
      "text/plain": [
       "            0         1         2         3\n",
       "46  -0.658090 -0.207434  3.525865  0.283070\n",
       "67   0.599947 -3.645860  0.255475 -0.549574\n",
       "289 -1.559625  0.336788 -3.333767 -1.240685\n",
       "371 -1.116332 -3.018842 -0.298748  0.406954\n",
       "396 -3.108915  1.117755 -0.152780 -0.340173\n",
       "526  1.188742 -3.183867  1.050471 -1.042736\n",
       "573 -2.214074 -3.140963 -1.509976 -0.389818\n",
       "738 -0.088202  1.090038 -0.848098 -3.194414\n",
       "768  0.474358  0.003349 -0.011807  3.023720\n",
       "797  2.368010  0.452649 -3.481593  0.789944\n",
       "966  0.164293  3.082067 -0.516982  0.251909\n",
       "994 -0.843849  3.189940  0.070978  0.516982"
      ]
     },
     "execution_count": 19,
     "metadata": {},
     "output_type": "execute_result"
    }
   ],
   "source": [
    "dframe[(np.abs(dframe)>3).any(1)]"
   ]
  },
  {
   "cell_type": "code",
   "execution_count": 21,
   "metadata": {
    "collapsed": true
   },
   "outputs": [],
   "source": [
    "dframe[np.abs(dframe)>3]=np.sign(dframe) * 3"
   ]
  },
  {
   "cell_type": "raw",
   "metadata": {},
   "source": []
  },
  {
   "cell_type": "code",
   "execution_count": 22,
   "metadata": {
    "collapsed": false
   },
   "outputs": [
    {
     "data": {
      "text/html": [
       "<div>\n",
       "<table border=\"1\" class=\"dataframe\">\n",
       "  <thead>\n",
       "    <tr style=\"text-align: right;\">\n",
       "      <th></th>\n",
       "      <th>0</th>\n",
       "      <th>1</th>\n",
       "      <th>2</th>\n",
       "      <th>3</th>\n",
       "    </tr>\n",
       "  </thead>\n",
       "  <tbody>\n",
       "    <tr>\n",
       "      <th>count</th>\n",
       "      <td>1000.000000</td>\n",
       "      <td>1000.000000</td>\n",
       "      <td>1000.000000</td>\n",
       "      <td>1000.000000</td>\n",
       "    </tr>\n",
       "    <tr>\n",
       "      <th>mean</th>\n",
       "      <td>-0.020772</td>\n",
       "      <td>0.002361</td>\n",
       "      <td>-0.019163</td>\n",
       "      <td>-0.025951</td>\n",
       "    </tr>\n",
       "    <tr>\n",
       "      <th>std</th>\n",
       "      <td>0.979685</td>\n",
       "      <td>1.021487</td>\n",
       "      <td>0.990725</td>\n",
       "      <td>0.959788</td>\n",
       "    </tr>\n",
       "    <tr>\n",
       "      <th>min</th>\n",
       "      <td>-3.000000</td>\n",
       "      <td>-3.000000</td>\n",
       "      <td>-3.000000</td>\n",
       "      <td>-3.000000</td>\n",
       "    </tr>\n",
       "    <tr>\n",
       "      <th>25%</th>\n",
       "      <td>-0.697479</td>\n",
       "      <td>-0.697678</td>\n",
       "      <td>-0.694020</td>\n",
       "      <td>-0.700987</td>\n",
       "    </tr>\n",
       "    <tr>\n",
       "      <th>50%</th>\n",
       "      <td>-0.005279</td>\n",
       "      <td>0.031774</td>\n",
       "      <td>-0.014728</td>\n",
       "      <td>-0.038483</td>\n",
       "    </tr>\n",
       "    <tr>\n",
       "      <th>75%</th>\n",
       "      <td>0.618116</td>\n",
       "      <td>0.690065</td>\n",
       "      <td>0.651287</td>\n",
       "      <td>0.649747</td>\n",
       "    </tr>\n",
       "    <tr>\n",
       "      <th>max</th>\n",
       "      <td>2.859053</td>\n",
       "      <td>3.000000</td>\n",
       "      <td>3.000000</td>\n",
       "      <td>3.000000</td>\n",
       "    </tr>\n",
       "  </tbody>\n",
       "</table>\n",
       "</div>"
      ],
      "text/plain": [
       "                 0            1            2            3\n",
       "count  1000.000000  1000.000000  1000.000000  1000.000000\n",
       "mean     -0.020772     0.002361    -0.019163    -0.025951\n",
       "std       0.979685     1.021487     0.990725     0.959788\n",
       "min      -3.000000    -3.000000    -3.000000    -3.000000\n",
       "25%      -0.697479    -0.697678    -0.694020    -0.700987\n",
       "50%      -0.005279     0.031774    -0.014728    -0.038483\n",
       "75%       0.618116     0.690065     0.651287     0.649747\n",
       "max       2.859053     3.000000     3.000000     3.000000"
      ]
     },
     "execution_count": 22,
     "metadata": {},
     "output_type": "execute_result"
    }
   ],
   "source": [
    "dframe.describe()"
   ]
  },
  {
   "cell_type": "code",
   "execution_count": null,
   "metadata": {
    "collapsed": true
   },
   "outputs": [],
   "source": []
  }
 ],
 "metadata": {
  "kernelspec": {
   "display_name": "Python 2",
   "language": "python",
   "name": "python2"
  },
  "language_info": {
   "codemirror_mode": {
    "name": "ipython",
    "version": 2
   },
   "file_extension": ".py",
   "mimetype": "text/x-python",
   "name": "python",
   "nbconvert_exporter": "python",
   "pygments_lexer": "ipython2",
   "version": "2.7.11"
  }
 },
 "nbformat": 4,
 "nbformat_minor": 0
}
